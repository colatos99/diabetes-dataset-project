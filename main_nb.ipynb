{
 "cells": [
  {
   "cell_type": "code",
   "execution_count": 75,
   "metadata": {},
   "outputs": [],
   "source": [
    "import pandas as pd\n",
    "import file_handler as fh\n",
    "import matplotlib.pyplot as plt\n",
    "import numpy as np\n",
    "import seaborn as sns\n",
    "from sklearn.linear_model import LinearRegression"
   ]
  },
  {
   "cell_type": "markdown",
   "metadata": {},
   "source": []
  },
  {
   "cell_type": "code",
   "execution_count": null,
   "metadata": {},
   "outputs": [],
   "source": []
  },
  {
   "cell_type": "code",
   "execution_count": 76,
   "metadata": {},
   "outputs": [
    {
     "data": {
      "text/html": [
       "<div>\n",
       "<style scoped>\n",
       "    .dataframe tbody tr th:only-of-type {\n",
       "        vertical-align: middle;\n",
       "    }\n",
       "\n",
       "    .dataframe tbody tr th {\n",
       "        vertical-align: top;\n",
       "    }\n",
       "\n",
       "    .dataframe thead th {\n",
       "        text-align: right;\n",
       "    }\n",
       "</style>\n",
       "<table border=\"1\" class=\"dataframe\">\n",
       "  <thead>\n",
       "    <tr style=\"text-align: right;\">\n",
       "      <th></th>\n",
       "      <th>Pregnancies</th>\n",
       "      <th>Glucose</th>\n",
       "      <th>BloodPressure</th>\n",
       "      <th>SkinThickness</th>\n",
       "      <th>Insulin</th>\n",
       "      <th>BMI</th>\n",
       "      <th>DiabetesPedigreeFunction</th>\n",
       "      <th>Age</th>\n",
       "      <th>Outcome</th>\n",
       "    </tr>\n",
       "  </thead>\n",
       "  <tbody>\n",
       "    <tr>\n",
       "      <th>0</th>\n",
       "      <td>6</td>\n",
       "      <td>148</td>\n",
       "      <td>72</td>\n",
       "      <td>35</td>\n",
       "      <td>0</td>\n",
       "      <td>33.6</td>\n",
       "      <td>0.627</td>\n",
       "      <td>50</td>\n",
       "      <td>1</td>\n",
       "    </tr>\n",
       "    <tr>\n",
       "      <th>1</th>\n",
       "      <td>1</td>\n",
       "      <td>85</td>\n",
       "      <td>66</td>\n",
       "      <td>29</td>\n",
       "      <td>0</td>\n",
       "      <td>26.6</td>\n",
       "      <td>0.351</td>\n",
       "      <td>31</td>\n",
       "      <td>0</td>\n",
       "    </tr>\n",
       "    <tr>\n",
       "      <th>2</th>\n",
       "      <td>8</td>\n",
       "      <td>183</td>\n",
       "      <td>64</td>\n",
       "      <td>0</td>\n",
       "      <td>0</td>\n",
       "      <td>23.3</td>\n",
       "      <td>0.672</td>\n",
       "      <td>32</td>\n",
       "      <td>1</td>\n",
       "    </tr>\n",
       "    <tr>\n",
       "      <th>3</th>\n",
       "      <td>1</td>\n",
       "      <td>89</td>\n",
       "      <td>66</td>\n",
       "      <td>23</td>\n",
       "      <td>94</td>\n",
       "      <td>28.1</td>\n",
       "      <td>0.167</td>\n",
       "      <td>21</td>\n",
       "      <td>0</td>\n",
       "    </tr>\n",
       "    <tr>\n",
       "      <th>4</th>\n",
       "      <td>0</td>\n",
       "      <td>137</td>\n",
       "      <td>40</td>\n",
       "      <td>35</td>\n",
       "      <td>168</td>\n",
       "      <td>43.1</td>\n",
       "      <td>2.288</td>\n",
       "      <td>33</td>\n",
       "      <td>1</td>\n",
       "    </tr>\n",
       "  </tbody>\n",
       "</table>\n",
       "</div>"
      ],
      "text/plain": [
       "   Pregnancies  Glucose  BloodPressure  SkinThickness  Insulin   BMI  \\\n",
       "0            6      148             72             35        0  33.6   \n",
       "1            1       85             66             29        0  26.6   \n",
       "2            8      183             64              0        0  23.3   \n",
       "3            1       89             66             23       94  28.1   \n",
       "4            0      137             40             35      168  43.1   \n",
       "\n",
       "   DiabetesPedigreeFunction  Age  Outcome  \n",
       "0                     0.627   50        1  \n",
       "1                     0.351   31        0  \n",
       "2                     0.672   32        1  \n",
       "3                     0.167   21        0  \n",
       "4                     2.288   33        1  "
      ]
     },
     "execution_count": 76,
     "metadata": {},
     "output_type": "execute_result"
    }
   ],
   "source": [
    "df = fh.get_diabetes_cvs()\n",
    "df.head()"
   ]
  },
  {
   "cell_type": "code",
   "execution_count": 77,
   "metadata": {},
   "outputs": [
    {
     "data": {
      "text/plain": [
       "768"
      ]
     },
     "execution_count": 77,
     "metadata": {},
     "output_type": "execute_result"
    }
   ],
   "source": [
    "len(df)"
   ]
  },
  {
   "cell_type": "code",
   "execution_count": 78,
   "metadata": {},
   "outputs": [],
   "source": [
    "group = df.groupby([\"BMI\"])\n"
   ]
  },
  {
   "cell_type": "code",
   "execution_count": 79,
   "metadata": {},
   "outputs": [
    {
     "data": {
      "text/plain": [
       "31.992578124999998"
      ]
     },
     "execution_count": 79,
     "metadata": {},
     "output_type": "execute_result"
    }
   ],
   "source": [
    "df[\"BMI\"].mean()\n"
   ]
  },
  {
   "cell_type": "code",
   "execution_count": 80,
   "metadata": {},
   "outputs": [],
   "source": [
    "new_df = df[:100]"
   ]
  },
  {
   "cell_type": "code",
   "execution_count": 81,
   "metadata": {},
   "outputs": [
    {
     "data": {
      "text/plain": [
       "0        148\n",
       "1        233\n",
       "2        416\n",
       "3        505\n",
       "4        642\n",
       "       ...  \n",
       "763    92385\n",
       "764    92507\n",
       "765    92628\n",
       "766    92754\n",
       "767    92847\n",
       "Name: Glucose, Length: 768, dtype: int64"
      ]
     },
     "execution_count": 81,
     "metadata": {},
     "output_type": "execute_result"
    }
   ],
   "source": [
    "#new_df.plot(x=\"BMI\", y=\"BloodPressure\")\n",
    "mean = df[\"Glucose\"].cumsum()\n",
    "mean"
   ]
  },
  {
   "cell_type": "code",
   "execution_count": 82,
   "metadata": {},
   "outputs": [],
   "source": [
    "#new_df.plot.scatter(x=\"Glucose\",y=\"BMI\")\n",
    "#plt.plot(mean[:200]/500)\n",
    "\n"
   ]
  },
  {
   "cell_type": "code",
   "execution_count": 83,
   "metadata": {},
   "outputs": [],
   "source": [
    "stats_group = df.groupby([\"Glucose\", \"BMI\"])"
   ]
  },
  {
   "cell_type": "code",
   "execution_count": 84,
   "metadata": {},
   "outputs": [
    {
     "data": {
      "text/plain": [
       "<bound method GroupBy.mean of <pandas.core.groupby.generic.SeriesGroupBy object at 0x000001EB5772CC50>>"
      ]
     },
     "execution_count": 84,
     "metadata": {},
     "output_type": "execute_result"
    }
   ],
   "source": [
    "mean = stats_group[\"Glucose\"].mean\n",
    "mean"
   ]
  },
  {
   "attachments": {},
   "cell_type": "markdown",
   "metadata": {},
   "source": [
    "Plotting Glucose Deviation"
   ]
  },
  {
   "cell_type": "code",
   "execution_count": 85,
   "metadata": {},
   "outputs": [
    {
     "name": "stdout",
     "output_type": "stream",
     "text": [
      "[117.42666667 117.42666667 117.42666667 117.42666667 117.42666667\n",
      " 117.42666667 117.42666667 117.42666667 117.42666667 117.42666667\n",
      " 117.42666667 117.42666667 117.42666667 117.42666667 117.42666667\n",
      " 117.42666667 117.42666667 117.42666667 117.42666667 117.42666667\n",
      " 117.42666667 117.42666667 117.42666667 117.42666667 117.42666667\n",
      " 117.42666667 117.42666667 117.42666667 117.42666667 117.42666667\n",
      " 117.42666667 117.42666667 117.42666667 117.42666667 117.42666667\n",
      " 117.42666667 117.42666667 117.42666667 117.42666667 117.42666667\n",
      " 117.42666667 117.42666667 117.42666667 117.42666667 117.42666667\n",
      " 117.42666667 117.42666667 117.42666667 117.42666667 117.42666667\n",
      " 117.42666667 117.42666667 117.42666667 117.42666667 117.42666667\n",
      " 117.42666667 117.42666667 117.42666667 117.42666667 117.42666667\n",
      " 117.42666667 117.42666667 117.42666667 117.42666667 117.42666667\n",
      " 117.42666667 117.42666667 117.42666667 117.42666667 117.42666667\n",
      " 117.42666667 117.42666667 117.42666667 117.42666667 117.42666667\n",
      " 117.42666667 117.42666667 117.42666667 117.42666667 117.42666667\n",
      " 117.42666667 117.42666667 117.42666667 117.42666667 117.42666667\n",
      " 117.42666667 117.42666667 117.42666667 117.42666667 117.42666667\n",
      " 117.42666667 117.42666667 117.42666667 117.42666667 117.42666667\n",
      " 117.42666667 117.42666667 117.42666667 117.42666667 117.42666667\n",
      " 117.42666667 117.42666667 117.42666667 117.42666667 117.42666667\n",
      " 117.42666667 117.42666667 117.42666667 117.42666667 117.42666667\n",
      " 117.42666667 117.42666667 117.42666667 117.42666667 117.42666667\n",
      " 117.42666667 117.42666667 117.42666667 117.42666667 117.42666667\n",
      " 117.42666667 117.42666667 117.42666667 117.42666667 117.42666667\n",
      " 117.42666667 117.42666667 117.42666667 117.42666667 117.42666667\n",
      " 117.42666667 117.42666667 117.42666667 117.42666667 117.42666667\n",
      " 117.42666667 117.42666667 117.42666667 117.42666667 117.42666667\n",
      " 117.42666667 117.42666667 117.42666667 117.42666667 117.42666667\n",
      " 117.42666667 117.42666667 117.42666667 117.42666667 117.42666667]\n"
     ]
    },
    {
     "data": {
      "image/png": "[encoded data removed]",
      "text/plain": [
       "<Figure size 640x480 with 1 Axes>"
      ]
     },
     "metadata": {},
     "output_type": "display_data"
    }
   ],
   "source": [
    "df_sorted = df.sort_values(\"Glucose\")\n",
    "df_sorted[\"Glucose\"][range(50,100)]\n",
    "x = np.array(df[\"Glucose\"][:150])\n",
    "#x\n",
    "y = np.array(df[\"BloodPressure\"][:30])\n",
    "z = np.array(df[\"Insulin\"][:30])\n",
    "a = np.array(df[\"DiabetesPedigreeFunction\"][:30])\n",
    "len(x)\n",
    "len(y)\n",
    "#plt.plot(a,z,'o')\n",
    "y_av = sum(y)/len(y)\n",
    "x_av = sum(x)/len(x)\n",
    "z_av = sum(z)/len(z)\n",
    "a_av = sum(a)/len(a)\n",
    "\n",
    "resid_list =  []\n",
    "final_list = []\n",
    "for i in range(0,len(x)):\n",
    " resid_list.append(x_av - x[i]) \n",
    "resid_list\n",
    "x_av_array = np.linspace(x_av,x_av,150)\n",
    "print(x_av_array)\n",
    "#plt.plot(resid_list,'o')\n",
    "final_list = []\n",
    "for i in range(0,len(x)):\n",
    "    final_list.append(resid_list[i] + x_av_array[i])\n",
    "    \n",
    "plt.plot(x_av_array)\n",
    "\n",
    "\n",
    "plot = plt.plot(final_list,'o')\n"
   ]
  },
  {
   "cell_type": "code",
   "execution_count": null,
   "metadata": {},
   "outputs": [],
   "source": []
  },
  {
   "cell_type": "code",
   "execution_count": null,
   "metadata": {},
   "outputs": [],
   "source": []
  },
  {
   "cell_type": "code",
   "execution_count": 86,
   "metadata": {},
   "outputs": [
    {
     "data": {
      "text/plain": [
       "150"
      ]
     },
     "execution_count": 86,
     "metadata": {},
     "output_type": "execute_result"
    }
   ],
   "source": [
    "len(x)"
   ]
  },
  {
   "attachments": {},
   "cell_type": "markdown",
   "metadata": {},
   "source": [
    "Plotting Glucose Blood Pressure Relationship"
   ]
  },
  {
   "cell_type": "code",
   "execution_count": 87,
   "metadata": {},
   "outputs": [
    {
     "data": {
      "text/plain": [
       "768"
      ]
     },
     "execution_count": 87,
     "metadata": {},
     "output_type": "execute_result"
    },
    {
     "data": {
      "image/png": "[encoded data removed]",
      "text/plain": [
       "<Figure size 640x480 with 2 Axes>"
      ]
     },
     "metadata": {},
     "output_type": "display_data"
    }
   ],
   "source": [
    "sns.heatmap(df[:50])\n",
    "len(df)"
   ]
  },
  {
   "cell_type": "code",
   "execution_count": 88,
   "metadata": {},
   "outputs": [
    {
     "data": {
      "text/plain": [
       "[0.0,\n",
       " 124.42,\n",
       " 106.44,\n",
       " 113.14,\n",
       " 119.34,\n",
       " 128.8,\n",
       " 119.06,\n",
       " 119.0,\n",
       " 119.16,\n",
       " 121.94,\n",
       " 118.8,\n",
       " 109.48,\n",
       " 113.28,\n",
       " 118.92,\n",
       " 123.06,\n",
       " 121.04]"
      ]
     },
     "execution_count": 88,
     "metadata": {},
     "output_type": "execute_result"
    }
   ],
   "source": [
    "value_counter = 0\n",
    "temp_sum = 0\n",
    "glucose_ds_list = []\n",
    "for i in range(0,len(df[\"Glucose\"])):\n",
    "   \n",
    "    if i % 50 != 0:\n",
    "        temp_sum = temp_sum + df.loc[i][\"Glucose\"]\n",
    "    else:\n",
    "        glucose_ds_list.append(temp_sum/50)\n",
    "        temp_sum = 0\n",
    "glucose_ds_list"
   ]
  },
  {
   "cell_type": "code",
   "execution_count": 89,
   "metadata": {},
   "outputs": [
    {
     "data": {
      "text/plain": [
       "[0.0,\n",
       " 124.42,\n",
       " 106.44,\n",
       " 113.14,\n",
       " 119.34,\n",
       " 128.8,\n",
       " 119.06,\n",
       " 119.0,\n",
       " 119.16,\n",
       " 121.94,\n",
       " 118.8,\n",
       " 109.48,\n",
       " 113.28,\n",
       " 118.92,\n",
       " 123.06,\n",
       " 121.04]"
      ]
     },
     "execution_count": 89,
     "metadata": {},
     "output_type": "execute_result"
    }
   ],
   "source": [
    "temp_sum = 0\n",
    "insulin_ds_list = []\n",
    "for i in range(0,len(df[\"Insulin\"])):\n",
    "    if i % 50 != 0:\n",
    "        temp_sum = temp_sum + df.loc[i][\"Insulin\"]\n",
    "    else:\n",
    "        insulin_ds_list.append(temp_sum/50)\n",
    "        \n",
    "        temp_sum = 0\n",
    "glucose_ds_list"
   ]
  },
  {
   "cell_type": "markdown",
   "metadata": {},
   "source": [
    "Next chart takes average for every 50 items from dataframe of 768 and shows heatmap for glucose and insulin"
   ]
  },
  {
   "cell_type": "code",
   "execution_count": 90,
   "metadata": {},
   "outputs": [
    {
     "data": {
      "text/html": [
       "<div>\n",
       "<style scoped>\n",
       "    .dataframe tbody tr th:only-of-type {\n",
       "        vertical-align: middle;\n",
       "    }\n",
       "\n",
       "    .dataframe tbody tr th {\n",
       "        vertical-align: top;\n",
       "    }\n",
       "\n",
       "    .dataframe thead th {\n",
       "        text-align: right;\n",
       "    }\n",
       "</style>\n",
       "<table border=\"1\" class=\"dataframe\">\n",
       "  <thead>\n",
       "    <tr style=\"text-align: right;\">\n",
       "      <th></th>\n",
       "      <th>Glucose</th>\n",
       "      <th>Insulin</th>\n",
       "    </tr>\n",
       "  </thead>\n",
       "  <tbody>\n",
       "    <tr>\n",
       "      <th>0</th>\n",
       "      <td>0.00</td>\n",
       "      <td>0.00</td>\n",
       "    </tr>\n",
       "    <tr>\n",
       "      <th>1</th>\n",
       "      <td>124.42</td>\n",
       "      <td>81.54</td>\n",
       "    </tr>\n",
       "    <tr>\n",
       "      <th>2</th>\n",
       "      <td>106.44</td>\n",
       "      <td>65.52</td>\n",
       "    </tr>\n",
       "    <tr>\n",
       "      <th>3</th>\n",
       "      <td>113.14</td>\n",
       "      <td>69.34</td>\n",
       "    </tr>\n",
       "    <tr>\n",
       "      <th>4</th>\n",
       "      <td>119.34</td>\n",
       "      <td>77.28</td>\n",
       "    </tr>\n",
       "    <tr>\n",
       "      <th>5</th>\n",
       "      <td>128.80</td>\n",
       "      <td>103.26</td>\n",
       "    </tr>\n",
       "    <tr>\n",
       "      <th>6</th>\n",
       "      <td>119.06</td>\n",
       "      <td>85.14</td>\n",
       "    </tr>\n",
       "    <tr>\n",
       "      <th>7</th>\n",
       "      <td>119.00</td>\n",
       "      <td>66.50</td>\n",
       "    </tr>\n",
       "    <tr>\n",
       "      <th>8</th>\n",
       "      <td>119.16</td>\n",
       "      <td>95.70</td>\n",
       "    </tr>\n",
       "    <tr>\n",
       "      <th>9</th>\n",
       "      <td>121.94</td>\n",
       "      <td>81.38</td>\n",
       "    </tr>\n",
       "    <tr>\n",
       "      <th>10</th>\n",
       "      <td>118.80</td>\n",
       "      <td>72.88</td>\n",
       "    </tr>\n",
       "    <tr>\n",
       "      <th>11</th>\n",
       "      <td>109.48</td>\n",
       "      <td>73.44</td>\n",
       "    </tr>\n",
       "    <tr>\n",
       "      <th>12</th>\n",
       "      <td>113.28</td>\n",
       "      <td>73.32</td>\n",
       "    </tr>\n",
       "    <tr>\n",
       "      <th>13</th>\n",
       "      <td>118.92</td>\n",
       "      <td>73.62</td>\n",
       "    </tr>\n",
       "    <tr>\n",
       "      <th>14</th>\n",
       "      <td>123.06</td>\n",
       "      <td>88.36</td>\n",
       "    </tr>\n",
       "    <tr>\n",
       "      <th>15</th>\n",
       "      <td>121.04</td>\n",
       "      <td>83.36</td>\n",
       "    </tr>\n",
       "  </tbody>\n",
       "</table>\n",
       "</div>"
      ],
      "text/plain": [
       "    Glucose  Insulin\n",
       "0      0.00     0.00\n",
       "1    124.42    81.54\n",
       "2    106.44    65.52\n",
       "3    113.14    69.34\n",
       "4    119.34    77.28\n",
       "5    128.80   103.26\n",
       "6    119.06    85.14\n",
       "7    119.00    66.50\n",
       "8    119.16    95.70\n",
       "9    121.94    81.38\n",
       "10   118.80    72.88\n",
       "11   109.48    73.44\n",
       "12   113.28    73.32\n",
       "13   118.92    73.62\n",
       "14   123.06    88.36\n",
       "15   121.04    83.36"
      ]
     },
     "execution_count": 90,
     "metadata": {},
     "output_type": "execute_result"
    }
   ],
   "source": [
    "ds_df = pd.DataFrame({\"Glucose\" : glucose_ds_list, \"Insulin\" : insulin_ds_list})\n",
    "ds_df"
   ]
  },
  {
   "cell_type": "code",
   "execution_count": 92,
   "metadata": {},
   "outputs": [
    {
     "data": {
      "text/plain": [
       "<Axes: >"
      ]
     },
     "execution_count": 92,
     "metadata": {},
     "output_type": "execute_result"
    },
    {
     "data": {
      "image/png": "[encoded data removed]",
      "text/plain": [
       "<Figure size 640x480 with 2 Axes>"
      ]
     },
     "metadata": {},
     "output_type": "display_data"
    }
   ],
   "source": [
    "sns.heatmap(ds_df, cmap=sns.cubehelix_palette(as_cmap=True))"
   ]
  },
  {
   "cell_type": "code",
   "execution_count": null,
   "metadata": {},
   "outputs": [],
   "source": []
  }
 ],
 "metadata": {
  "kernelspec": {
   "display_name": "diabetes_dataset_env",
   "language": "python",
   "name": "python3"
  },
  "language_info": {
   "codemirror_mode": {
    "name": "ipython",
    "version": 3
   },
   "file_extension": ".py",
   "mimetype": "text/x-python",
   "name": "python",
   "nbconvert_exporter": "python",
   "pygments_lexer": "ipython3",
   "version": "3.11.1"
  },
  "orig_nbformat": 4,
  "vscode": {
   "interpreter": {
    "hash": "d142f4530aa22cdaae461137a90a5a895848bb5b33a116a1efca1b011f4a0dc1"
   }
  }
 },
 "nbformat": 4,
 "nbformat_minor": 2
}
